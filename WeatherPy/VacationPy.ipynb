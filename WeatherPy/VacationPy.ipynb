{
 "cells": [
  {
   "cell_type": "markdown",
   "metadata": {},
   "source": [
    "# VacationPy\n",
    "----\n",
    "\n",
    "#### Note\n",
    "* Instructions have been included for each segment. You do not have to follow them exactly, but they are included to help you think through the steps."
   ]
  },
  {
   "cell_type": "code",
   "execution_count": 2,
   "metadata": {},
   "outputs": [],
   "source": [
    "# Dependencies and Setup\n",
    "import matplotlib.pyplot as plt\n",
    "import pandas as pd\n",
    "import numpy as np\n",
    "import requests\n",
    "import gmaps\n",
    "import os\n",
    "\n",
    "# Import API key\n",
    "from api_keys import g_key\n",
    "\n",
    "\n"
   ]
  },
  {
   "cell_type": "markdown",
   "metadata": {},
   "source": [
    "### Store Part I results into DataFrame\n",
    "* Load the csv exported in Part I to a DataFrame"
   ]
  },
  {
   "cell_type": "code",
   "execution_count": 3,
   "metadata": {},
   "outputs": [
    {
     "output_type": "execute_result",
     "data": {
      "text/plain": "   Unnamed: 0                    City  Temperature  Humidity  Cloudiness  \\\n0           0  Santa cruz de la palma        17.64      77.0         0.0   \n2           2                   Kapaa        25.85      65.0        40.0   \n3           3                 Ushuaia         6.00      81.0        75.0   \n4           4                  Faanui        27.98      70.0        37.0   \n5           5              Butaritari        28.65      80.0        52.0   \n\n   Latitude  Longitude  Wind Speed  \n0     28.68     -17.76        4.10  \n2     22.08    -159.32        8.20  \n3    -54.80     -68.30       11.80  \n4    -16.48    -151.75        1.03  \n5      3.07     172.79        7.96  ",
      "text/html": "<div>\n<style scoped>\n    .dataframe tbody tr th:only-of-type {\n        vertical-align: middle;\n    }\n\n    .dataframe tbody tr th {\n        vertical-align: top;\n    }\n\n    .dataframe thead th {\n        text-align: right;\n    }\n</style>\n<table border=\"1\" class=\"dataframe\">\n  <thead>\n    <tr style=\"text-align: right;\">\n      <th></th>\n      <th>Unnamed: 0</th>\n      <th>City</th>\n      <th>Temperature</th>\n      <th>Humidity</th>\n      <th>Cloudiness</th>\n      <th>Latitude</th>\n      <th>Longitude</th>\n      <th>Wind Speed</th>\n    </tr>\n  </thead>\n  <tbody>\n    <tr>\n      <th>0</th>\n      <td>0</td>\n      <td>Santa cruz de la palma</td>\n      <td>17.64</td>\n      <td>77.0</td>\n      <td>0.0</td>\n      <td>28.68</td>\n      <td>-17.76</td>\n      <td>4.10</td>\n    </tr>\n    <tr>\n      <th>2</th>\n      <td>2</td>\n      <td>Kapaa</td>\n      <td>25.85</td>\n      <td>65.0</td>\n      <td>40.0</td>\n      <td>22.08</td>\n      <td>-159.32</td>\n      <td>8.20</td>\n    </tr>\n    <tr>\n      <th>3</th>\n      <td>3</td>\n      <td>Ushuaia</td>\n      <td>6.00</td>\n      <td>81.0</td>\n      <td>75.0</td>\n      <td>-54.80</td>\n      <td>-68.30</td>\n      <td>11.80</td>\n    </tr>\n    <tr>\n      <th>4</th>\n      <td>4</td>\n      <td>Faanui</td>\n      <td>27.98</td>\n      <td>70.0</td>\n      <td>37.0</td>\n      <td>-16.48</td>\n      <td>-151.75</td>\n      <td>1.03</td>\n    </tr>\n    <tr>\n      <th>5</th>\n      <td>5</td>\n      <td>Butaritari</td>\n      <td>28.65</td>\n      <td>80.0</td>\n      <td>52.0</td>\n      <td>3.07</td>\n      <td>172.79</td>\n      <td>7.96</td>\n    </tr>\n  </tbody>\n</table>\n</div>"
     },
     "metadata": {},
     "execution_count": 3
    }
   ],
   "source": [
    "cities_df = pd.read_csv('output_data/cities.csv')\n",
    "cities_df = cities_df.dropna()\n",
    "cities_df.head()"
   ]
  },
  {
   "cell_type": "markdown",
   "metadata": {},
   "source": [
    "### Humidity Heatmap\n",
    "* Configure gmaps.\n",
    "* Use the Lat and Lng as locations and Humidity as the weight.\n",
    "* Add Heatmap layer to map."
   ]
  },
  {
   "cell_type": "code",
   "execution_count": 7,
   "metadata": {},
   "outputs": [
    {
     "output_type": "display_data",
     "data": {
      "text/plain": "Figure(layout=FigureLayout(height='420px'))",
      "application/vnd.jupyter.widget-view+json": {
       "version_major": 2,
       "version_minor": 0,
       "model_id": "7dee5fb61e7748409086612cc4b45fbc"
      }
     },
     "metadata": {}
    }
   ],
   "source": [
    "#configure gmaps with figure layout\n",
    "gmaps.configure(api_key = g_key)\n",
    "figure_layout = {\n",
    "    'width': '1000 px', \n",
    "    'height': '1000 px',\n",
    "    'border': '1px solid black',\n",
    "    'padding': '1px',\n",
    "    'margin': '0 auto 0 auto'\n",
    "}\n",
    "\n",
    "fig = gmaps.figure()\n",
    "\n",
    "locations = cities_df[['Latitude', 'Longitude']].astype(float) # locations df with coordinates as floats\n",
    "humidity = cities_df['Humidity'].astype(float) #humidity df with humidity as floats\n",
    "\n",
    "heat_layer = gmaps.heatmap_layer(locations, weights=humidity, dissipating=False, max_intensity=100, point_radius=1) #configure heat layer\n",
    "fig.add_layer(heat_layer) #add layer to figure\n",
    "fig"
   ]
  },
  {
   "cell_type": "code",
   "execution_count": null,
   "metadata": {},
   "outputs": [],
   "source": [
    "\n"
   ]
  },
  {
   "cell_type": "markdown",
   "metadata": {},
   "source": [
    "### Create new DataFrame fitting weather criteria\n",
    "* Narrow down the cities to fit weather conditions.\n",
    "* Drop any rows will null values."
   ]
  },
  {
   "cell_type": "code",
   "execution_count": 38,
   "metadata": {},
   "outputs": [],
   "source": [
    "# Only pick cities where temp is between 18 and 25 celcius, wind speed below 10 mph, and less than 20% cloudiness\n",
    "picky_df = cities_df.loc[\n",
    "    (cities_df['Temperature'] > 18) & (cities_df['Temperature'] < 25) &\n",
    "    (cities_df['Wind Speed'] < 10) &\n",
    "    (cities_df['Cloudiness'] < 20),\n",
    "     :]\n",
    "picky_df['Hotel Name'] = ''\n",
    "picky_df['Hotel Lat'] = ''\n",
    "picky_df['Hotel Lon'] = ''\n"
   ]
  },
  {
   "cell_type": "markdown",
   "metadata": {},
   "source": [
    "### Hotel Map\n",
    "* Store into variable named `hotel_df`.\n",
    "* Add a \"Hotel Name\" column to the DataFrame.\n",
    "* Set parameters to search for hotels with 5000 meters.\n",
    "* Hit the Google Places API for each city's coordinates.\n",
    "* Store the first Hotel result into the DataFrame.\n",
    "* Plot markers on top of the heatmap."
   ]
  },
  {
   "cell_type": "code",
   "execution_count": 32,
   "metadata": {
    "tags": [
     "outputPrepend",
     "outputPrepend",
     "outputPrepend",
     "outputPrepend",
     "outputPrepend",
     "outputPrepend",
     "outputPrepend",
     "outputPrepend",
     "outputPrepend",
     "outputPrepend",
     "outputPrepend",
     "outputPrepend",
     "outputPrepend",
     "outputPrepend",
     "outputPrepend",
     "outputPrepend",
     "outputPrepend"
    ]
   },
   "outputs": [
    {
     "output_type": "execute_result",
     "data": {
      "text/plain": "      Unnamed: 0          City  Temperature  Humidity  Cloudiness  Latitude  \\\n36            36      Barranca        19.93      84.0         2.0    -10.75   \n57            57    Sao filipe        24.19      67.0         0.0     14.90   \n92            92         Airai        20.32      47.0         3.0     -8.93   \n105          105       Beipiao        19.11      51.0         0.0     41.79   \n119          119    Vila velha        23.46      88.0        16.0    -20.33   \n...          ...           ...          ...       ...         ...       ...   \n1274        1274     Caravelas        23.49      83.0        15.0    -17.71   \n1336        1336        Lompoc        21.50      38.0         1.0     34.64   \n1422        1422  Port hedland        19.00      25.0         0.0    -20.32   \n1464        1464    Pascagoula        24.51      31.0         1.0     30.37   \n1492        1492        Hwange        18.59      23.0         3.0    -18.37   \n\n      Longitude  Wind Speed                              Hotel Name Hotel Lat  \\\n36       -77.77        2.49                      Yuri De Los Santos  -10.7513   \n57       -24.50        3.60                Pensão Ngozi Nova Cidade   14.9004   \n92       125.41        1.07                     Raw Material Atsabe  -8.92162   \n105      120.78        4.16                           People's Park   41.7929   \n119      -40.29        1.00                        Atelier do Maçom  -20.3301   \n...         ...         ...                                     ...       ...   \n1274     -39.25        2.22                             Mateus' S/A  -17.7157   \n1336    -120.46        4.10              Qineti Q Mission Solutions     34.64   \n1422     118.57        3.60  Port Hedland Harbour - Port Facilities  -20.3162   \n1464     -88.56        2.60                                 SBM LLC     30.37   \n1492      26.50        2.23                             Tennis Club  -18.3672   \n\n     Hotel Lon  \n36    -77.7709  \n57    -24.4985  \n92      125.41  \n105    120.775  \n119   -40.2903  \n...        ...  \n1274  -39.2459  \n1336   -120.46  \n1422   118.569  \n1464    -88.56  \n1492   26.4967  \n\n[62 rows x 11 columns]",
      "text/html": "<div>\n<style scoped>\n    .dataframe tbody tr th:only-of-type {\n        vertical-align: middle;\n    }\n\n    .dataframe tbody tr th {\n        vertical-align: top;\n    }\n\n    .dataframe thead th {\n        text-align: right;\n    }\n</style>\n<table border=\"1\" class=\"dataframe\">\n  <thead>\n    <tr style=\"text-align: right;\">\n      <th></th>\n      <th>Unnamed: 0</th>\n      <th>City</th>\n      <th>Temperature</th>\n      <th>Humidity</th>\n      <th>Cloudiness</th>\n      <th>Latitude</th>\n      <th>Longitude</th>\n      <th>Wind Speed</th>\n      <th>Hotel Name</th>\n      <th>Hotel Lat</th>\n      <th>Hotel Lon</th>\n    </tr>\n  </thead>\n  <tbody>\n    <tr>\n      <th>36</th>\n      <td>36</td>\n      <td>Barranca</td>\n      <td>19.93</td>\n      <td>84.0</td>\n      <td>2.0</td>\n      <td>-10.75</td>\n      <td>-77.77</td>\n      <td>2.49</td>\n      <td>Yuri De Los Santos</td>\n      <td>-10.7513</td>\n      <td>-77.7709</td>\n    </tr>\n    <tr>\n      <th>57</th>\n      <td>57</td>\n      <td>Sao filipe</td>\n      <td>24.19</td>\n      <td>67.0</td>\n      <td>0.0</td>\n      <td>14.90</td>\n      <td>-24.50</td>\n      <td>3.60</td>\n      <td>Pensão Ngozi Nova Cidade</td>\n      <td>14.9004</td>\n      <td>-24.4985</td>\n    </tr>\n    <tr>\n      <th>92</th>\n      <td>92</td>\n      <td>Airai</td>\n      <td>20.32</td>\n      <td>47.0</td>\n      <td>3.0</td>\n      <td>-8.93</td>\n      <td>125.41</td>\n      <td>1.07</td>\n      <td>Raw Material Atsabe</td>\n      <td>-8.92162</td>\n      <td>125.41</td>\n    </tr>\n    <tr>\n      <th>105</th>\n      <td>105</td>\n      <td>Beipiao</td>\n      <td>19.11</td>\n      <td>51.0</td>\n      <td>0.0</td>\n      <td>41.79</td>\n      <td>120.78</td>\n      <td>4.16</td>\n      <td>People's Park</td>\n      <td>41.7929</td>\n      <td>120.775</td>\n    </tr>\n    <tr>\n      <th>119</th>\n      <td>119</td>\n      <td>Vila velha</td>\n      <td>23.46</td>\n      <td>88.0</td>\n      <td>16.0</td>\n      <td>-20.33</td>\n      <td>-40.29</td>\n      <td>1.00</td>\n      <td>Atelier do Maçom</td>\n      <td>-20.3301</td>\n      <td>-40.2903</td>\n    </tr>\n    <tr>\n      <th>...</th>\n      <td>...</td>\n      <td>...</td>\n      <td>...</td>\n      <td>...</td>\n      <td>...</td>\n      <td>...</td>\n      <td>...</td>\n      <td>...</td>\n      <td>...</td>\n      <td>...</td>\n      <td>...</td>\n    </tr>\n    <tr>\n      <th>1274</th>\n      <td>1274</td>\n      <td>Caravelas</td>\n      <td>23.49</td>\n      <td>83.0</td>\n      <td>15.0</td>\n      <td>-17.71</td>\n      <td>-39.25</td>\n      <td>2.22</td>\n      <td>Mateus' S/A</td>\n      <td>-17.7157</td>\n      <td>-39.2459</td>\n    </tr>\n    <tr>\n      <th>1336</th>\n      <td>1336</td>\n      <td>Lompoc</td>\n      <td>21.50</td>\n      <td>38.0</td>\n      <td>1.0</td>\n      <td>34.64</td>\n      <td>-120.46</td>\n      <td>4.10</td>\n      <td>Qineti Q Mission Solutions</td>\n      <td>34.64</td>\n      <td>-120.46</td>\n    </tr>\n    <tr>\n      <th>1422</th>\n      <td>1422</td>\n      <td>Port hedland</td>\n      <td>19.00</td>\n      <td>25.0</td>\n      <td>0.0</td>\n      <td>-20.32</td>\n      <td>118.57</td>\n      <td>3.60</td>\n      <td>Port Hedland Harbour - Port Facilities</td>\n      <td>-20.3162</td>\n      <td>118.569</td>\n    </tr>\n    <tr>\n      <th>1464</th>\n      <td>1464</td>\n      <td>Pascagoula</td>\n      <td>24.51</td>\n      <td>31.0</td>\n      <td>1.0</td>\n      <td>30.37</td>\n      <td>-88.56</td>\n      <td>2.60</td>\n      <td>SBM LLC</td>\n      <td>30.37</td>\n      <td>-88.56</td>\n    </tr>\n    <tr>\n      <th>1492</th>\n      <td>1492</td>\n      <td>Hwange</td>\n      <td>18.59</td>\n      <td>23.0</td>\n      <td>3.0</td>\n      <td>-18.37</td>\n      <td>26.50</td>\n      <td>2.23</td>\n      <td>Tennis Club</td>\n      <td>-18.3672</td>\n      <td>26.4967</td>\n    </tr>\n  </tbody>\n</table>\n<p>62 rows × 11 columns</p>\n</div>"
     },
     "metadata": {},
     "execution_count": 32
    }
   ],
   "source": [
    "# values are inserted into picky_df to keep things cohesive\n",
    "base_url = \"https://maps.googleapis.com/maps/api/place/nearbysearch/json\"\n",
    "params = {\n",
    "    'rankby': 'distance',\n",
    "    'type': 'hotel',\n",
    "    'key': g_key\n",
    "}\n",
    "\n",
    "for index, row in picky_df.iterrows():\n",
    "    params['location'] = f'{row[\"Latitude\"]},{row[\"Longitude\"]}' #build location parameter from picky_df\n",
    "    response = requests.get(base_url, params = params).json() #call the googlemaps nearby search api\n",
    "    results = response['results']\n",
    "    #add data for each hotel to picky_df\n",
    "    picky_df.loc[index, 'Hotel Name'] = results[0]['name']\n",
    "    picky_df.loc[index, 'Hotel Lat'] = results[0]['geometry']['location']['lat']\n",
    "    picky_df.loc[index, 'Hotel Lon'] = results[0]['geometry']['location']['lng']\n",
    "\n",
    "\n",
    "picky_df\n"
   ]
  },
  {
   "cell_type": "code",
   "execution_count": null,
   "metadata": {},
   "outputs": [],
   "source": [
    "\n"
   ]
  },
  {
   "cell_type": "code",
   "execution_count": 34,
   "metadata": {},
   "outputs": [],
   "source": [
    "# NOTE: Do not change any of the code in this cell\n",
    "\n",
    "# Using the template add the hotel marks to the heatmap\n",
    "info_box_template = \"\"\"\n",
    "<dl>\n",
    "<dt>Name</dt><dd>{Hotel Name}</dd>\n",
    "<dt>City</dt><dd>{City}</dd>\n",
    "</dl>\n",
    "\"\"\"\n",
    "# Store the DataFrame Row\n",
    "# NOTE: be sure to update with your DataFrame name\n",
    "hotel_info = [info_box_template.format(**row) for index, row in picky_df.iterrows()]\n",
    "locations = picky_df[[\"Hotel Lat\", \"Hotel Lon\"]]"
   ]
  },
  {
   "cell_type": "code",
   "execution_count": 39,
   "metadata": {},
   "outputs": [
    {
     "output_type": "display_data",
     "data": {
      "text/plain": "Figure(layout=FigureLayout(height='420px'))",
      "application/vnd.jupyter.widget-view+json": {
       "version_major": 2,
       "version_minor": 0,
       "model_id": "7dee5fb61e7748409086612cc4b45fbc"
      }
     },
     "metadata": {}
    }
   ],
   "source": [
    "# Add marker layer ontop of heat map\n",
    "markers = gmaps.marker_layer(locations, info_box_content = hotel_info)\n",
    "fig.add_layer(markers)\n",
    "\n",
    "# Display Map\n",
    "fig"
   ]
  },
  {
   "cell_type": "code",
   "execution_count": null,
   "metadata": {},
   "outputs": [],
   "source": []
  }
 ],
 "metadata": {
  "kernelspec": {
   "display_name": "Python 3.6.7 64-bit ('PythonData': conda)",
   "language": "python",
   "name": "python36764bitpythondatacondac93f1d0824da4ea88fdc3c2e1b2950d1"
  },
  "language_info": {
   "codemirror_mode": {
    "name": "ipython",
    "version": 3
   },
   "file_extension": ".py",
   "mimetype": "text/x-python",
   "name": "python",
   "nbconvert_exporter": "python",
   "pygments_lexer": "ipython3",
   "version": "3.6.7-final"
  },
  "latex_envs": {
   "LaTeX_envs_menu_present": true,
   "autoclose": false,
   "autocomplete": true,
   "bibliofile": "biblio.bib",
   "cite_by": "apalike",
   "current_citInitial": 1,
   "eqLabelWithNumbers": true,
   "eqNumInitial": 1,
   "hotkeys": {
    "equation": "Ctrl-E",
    "itemize": "Ctrl-I"
   },
   "labels_anchors": false,
   "latex_user_defs": false,
   "report_style_numbering": false,
   "user_envs_cfg": false
  }
 },
 "nbformat": 4,
 "nbformat_minor": 2
}